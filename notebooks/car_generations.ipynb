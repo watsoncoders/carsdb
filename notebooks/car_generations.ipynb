{
 "cells": [
  {
   "cell_type": "code",
   "execution_count": 2,
   "metadata": {
    "collapsed": true
   },
   "outputs": [],
   "source": [
    "import pandas as pd\n",
    "import pyodbc"
   ]
  },
  {
   "cell_type": "code",
   "execution_count": 3,
   "outputs": [],
   "source": [
    "server = \"localhost\"\n",
    "database = \"cars_2021\"\n",
    "username = \"xxxx\"\n",
    "password = \"xxxx\"\n",
    "\n",
    "connection = pyodbc.connect(\n",
    "    \"DRIVER={ODBC Driver 17 for SQL Server};SERVER=\"\n",
    "    + server\n",
    "    + \";DATABASE=\"\n",
    "    + database\n",
    "    + \";UID=\"\n",
    "    + username\n",
    "    + \";PWD=\"\n",
    "    + password\n",
    ")\n",
    "\n",
    "def exec_query(query:str) -> pd.DataFrame:\n",
    "    return pd.read_sql_query(query, connection)"
   ],
   "metadata": {
    "collapsed": false,
    "pycharm": {
     "name": "#%%\n"
    }
   }
  },
  {
   "cell_type": "code",
   "execution_count": 7,
   "outputs": [
    {
     "data": {
      "text/plain": "  model_name               gen_name year_begin year_end  id_car_generation\n0      Yukon           5 generation       2020     2021             128044\n1      Yukon           4 generation       2014     2021             124266\n2      Yukon                 GMT900       2006     2014                724\n3      Yukon                 GMT800       2000     2006                725\n4      Yukon  1 generation (GMT400)       1992     1999               8061",
      "text/html": "<div>\n<style scoped>\n    .dataframe tbody tr th:only-of-type {\n        vertical-align: middle;\n    }\n\n    .dataframe tbody tr th {\n        vertical-align: top;\n    }\n\n    .dataframe thead th {\n        text-align: right;\n    }\n</style>\n<table border=\"1\" class=\"dataframe\">\n  <thead>\n    <tr style=\"text-align: right;\">\n      <th></th>\n      <th>model_name</th>\n      <th>gen_name</th>\n      <th>year_begin</th>\n      <th>year_end</th>\n      <th>id_car_generation</th>\n    </tr>\n  </thead>\n  <tbody>\n    <tr>\n      <th>0</th>\n      <td>Yukon</td>\n      <td>5 generation</td>\n      <td>2020</td>\n      <td>2021</td>\n      <td>128044</td>\n    </tr>\n    <tr>\n      <th>1</th>\n      <td>Yukon</td>\n      <td>4 generation</td>\n      <td>2014</td>\n      <td>2021</td>\n      <td>124266</td>\n    </tr>\n    <tr>\n      <th>2</th>\n      <td>Yukon</td>\n      <td>GMT900</td>\n      <td>2006</td>\n      <td>2014</td>\n      <td>724</td>\n    </tr>\n    <tr>\n      <th>3</th>\n      <td>Yukon</td>\n      <td>GMT800</td>\n      <td>2000</td>\n      <td>2006</td>\n      <td>725</td>\n    </tr>\n    <tr>\n      <th>4</th>\n      <td>Yukon</td>\n      <td>1 generation (GMT400)</td>\n      <td>1992</td>\n      <td>1999</td>\n      <td>8061</td>\n    </tr>\n  </tbody>\n</table>\n</div>"
     },
     "execution_count": 7,
     "metadata": {},
     "output_type": "execute_result"
    }
   ],
   "source": [
    "model_name = \"yukon\"\n",
    "\n",
    "car_gen_df = exec_query(f\"\"\"select\n",
    "\tmodel.name as model_name,\n",
    "\tgen.name as gen_name,\n",
    "\tgen.year_begin,\n",
    "\tgen.year_end,\n",
    "\tgen.id_car_generation\n",
    "from car_generation gen\n",
    "inner join car_model model\n",
    "on gen.id_car_model = model.id_car_model\n",
    "where model.name like '%{model_name}%'\n",
    "order by gen.year_end desc, gen.year_begin desc\"\"\")\n",
    "\n",
    "\n",
    "car_gen_df"
   ],
   "metadata": {
    "collapsed": false,
    "pycharm": {
     "name": "#%%\n"
    }
   }
  },
  {
   "cell_type": "code",
   "execution_count": 15,
   "outputs": [
    {
     "data": {
      "text/plain": "Empty DataFrame\nColumns: [id_car_serie, id_car_model, id_car_generation, name, date_create, date_update, id_car_type]\nIndex: []",
      "text/html": "<div>\n<style scoped>\n    .dataframe tbody tr th:only-of-type {\n        vertical-align: middle;\n    }\n\n    .dataframe tbody tr th {\n        vertical-align: top;\n    }\n\n    .dataframe thead th {\n        text-align: right;\n    }\n</style>\n<table border=\"1\" class=\"dataframe\">\n  <thead>\n    <tr style=\"text-align: right;\">\n      <th></th>\n      <th>id_car_serie</th>\n      <th>id_car_model</th>\n      <th>id_car_generation</th>\n      <th>name</th>\n      <th>date_create</th>\n      <th>date_update</th>\n      <th>id_car_type</th>\n    </tr>\n  </thead>\n  <tbody>\n  </tbody>\n</table>\n</div>"
     },
     "execution_count": 15,
     "metadata": {},
     "output_type": "execute_result"
    }
   ],
   "source": [
    "exec_query(\"select * from car_serie where id_car_generation = 128044\")"
   ],
   "metadata": {
    "collapsed": false,
    "pycharm": {
     "name": "#%%\n"
    }
   }
  },
  {
   "cell_type": "code",
   "execution_count": 13,
   "outputs": [
    {
     "data": {
      "text/plain": "   id_car_trim  id_car_serie  id_car_model                 name  \\\n0       258263         64926           708      5.3 AT (355 hp)   \n1       258264         64926           708  5.3 AT 4WD (355 hp)   \n2       258265         64926           708      6.2 AT (420 hp)   \n3       258266         64926           708  6.2 AT 4WD (420 hp)   \n\n  start_production_year end_production_year  date_create  date_update  \\\n0                  None                None   1598046841   1598046841   \n1                  None                None   1598046841   1598046841   \n2                  None                None   1598046841   1598046841   \n3                  None                None   1598046841   1598046841   \n\n   id_car_type  \n0            1  \n1            1  \n2            1  \n3            1  ",
      "text/html": "<div>\n<style scoped>\n    .dataframe tbody tr th:only-of-type {\n        vertical-align: middle;\n    }\n\n    .dataframe tbody tr th {\n        vertical-align: top;\n    }\n\n    .dataframe thead th {\n        text-align: right;\n    }\n</style>\n<table border=\"1\" class=\"dataframe\">\n  <thead>\n    <tr style=\"text-align: right;\">\n      <th></th>\n      <th>id_car_trim</th>\n      <th>id_car_serie</th>\n      <th>id_car_model</th>\n      <th>name</th>\n      <th>start_production_year</th>\n      <th>end_production_year</th>\n      <th>date_create</th>\n      <th>date_update</th>\n      <th>id_car_type</th>\n    </tr>\n  </thead>\n  <tbody>\n    <tr>\n      <th>0</th>\n      <td>258263</td>\n      <td>64926</td>\n      <td>708</td>\n      <td>5.3 AT (355 hp)</td>\n      <td>None</td>\n      <td>None</td>\n      <td>1598046841</td>\n      <td>1598046841</td>\n      <td>1</td>\n    </tr>\n    <tr>\n      <th>1</th>\n      <td>258264</td>\n      <td>64926</td>\n      <td>708</td>\n      <td>5.3 AT 4WD (355 hp)</td>\n      <td>None</td>\n      <td>None</td>\n      <td>1598046841</td>\n      <td>1598046841</td>\n      <td>1</td>\n    </tr>\n    <tr>\n      <th>2</th>\n      <td>258265</td>\n      <td>64926</td>\n      <td>708</td>\n      <td>6.2 AT (420 hp)</td>\n      <td>None</td>\n      <td>None</td>\n      <td>1598046841</td>\n      <td>1598046841</td>\n      <td>1</td>\n    </tr>\n    <tr>\n      <th>3</th>\n      <td>258266</td>\n      <td>64926</td>\n      <td>708</td>\n      <td>6.2 AT 4WD (420 hp)</td>\n      <td>None</td>\n      <td>None</td>\n      <td>1598046841</td>\n      <td>1598046841</td>\n      <td>1</td>\n    </tr>\n  </tbody>\n</table>\n</div>"
     },
     "execution_count": 13,
     "metadata": {},
     "output_type": "execute_result"
    }
   ],
   "source": [
    "exec_query(\"select * from car_trim where id_car_serie = 64926\")"
   ],
   "metadata": {
    "collapsed": false,
    "pycharm": {
     "name": "#%%\n"
    }
   }
  },
  {
   "cell_type": "code",
   "execution_count": 14,
   "outputs": [
    {
     "data": {
      "text/plain": "    id_car_trim  id_car_serie  id_car_model                         name  \\\n0         17869          3396           708       5.3 AT XL 4WD (324 hp)   \n1         17870          3396           708              5.3 AT (320 hp)   \n2         17871          3396           708              6.2 AT (385 hp)   \n3         17872          3396           708          6.2 AT 4WD (385 hp)   \n4         32263          6251           708  XL 2500 6.0 AT (304 hp) 4WD   \n..          ...           ...           ...                          ...   \n62       268804         67436           708          3.0 AT 4WD (282 hp)   \n63       268805         67436           708              5.3 AT (360 hp)   \n64       268806         67436           708          5.3 AT 4WD (360 hp)   \n65       268807         67436           708              6.2 AT (426 hp)   \n66       268808         67436           708          6.2 AT 4WD (426 hp)   \n\n    start_production_year  end_production_year  date_create  date_update  \\\n0                  2014.0                  NaN   1402293380   1534983551   \n1                  2014.0                  NaN   1402293380   1534983552   \n2                  2014.0                  NaN   1402293380   1534983558   \n3                  2014.0                  NaN   1402293380   1534983558   \n4                  2000.0               2006.0   1402948524   1455679903   \n..                    ...                  ...          ...          ...   \n62                    NaN                  NaN   1626881762   1626881762   \n63                    NaN                  NaN   1626881762   1626881762   \n64                    NaN                  NaN   1626881762   1626881762   \n65                    NaN                  NaN   1626881762   1626881762   \n66                    NaN                  NaN   1626881762   1626881762   \n\n    id_car_type  \n0             1  \n1             1  \n2             1  \n3             1  \n4             1  \n..          ...  \n62            1  \n63            1  \n64            1  \n65            1  \n66            1  \n\n[67 rows x 9 columns]",
      "text/html": "<div>\n<style scoped>\n    .dataframe tbody tr th:only-of-type {\n        vertical-align: middle;\n    }\n\n    .dataframe tbody tr th {\n        vertical-align: top;\n    }\n\n    .dataframe thead th {\n        text-align: right;\n    }\n</style>\n<table border=\"1\" class=\"dataframe\">\n  <thead>\n    <tr style=\"text-align: right;\">\n      <th></th>\n      <th>id_car_trim</th>\n      <th>id_car_serie</th>\n      <th>id_car_model</th>\n      <th>name</th>\n      <th>start_production_year</th>\n      <th>end_production_year</th>\n      <th>date_create</th>\n      <th>date_update</th>\n      <th>id_car_type</th>\n    </tr>\n  </thead>\n  <tbody>\n    <tr>\n      <th>0</th>\n      <td>17869</td>\n      <td>3396</td>\n      <td>708</td>\n      <td>5.3 AT XL 4WD (324 hp)</td>\n      <td>2014.0</td>\n      <td>NaN</td>\n      <td>1402293380</td>\n      <td>1534983551</td>\n      <td>1</td>\n    </tr>\n    <tr>\n      <th>1</th>\n      <td>17870</td>\n      <td>3396</td>\n      <td>708</td>\n      <td>5.3 AT (320 hp)</td>\n      <td>2014.0</td>\n      <td>NaN</td>\n      <td>1402293380</td>\n      <td>1534983552</td>\n      <td>1</td>\n    </tr>\n    <tr>\n      <th>2</th>\n      <td>17871</td>\n      <td>3396</td>\n      <td>708</td>\n      <td>6.2 AT (385 hp)</td>\n      <td>2014.0</td>\n      <td>NaN</td>\n      <td>1402293380</td>\n      <td>1534983558</td>\n      <td>1</td>\n    </tr>\n    <tr>\n      <th>3</th>\n      <td>17872</td>\n      <td>3396</td>\n      <td>708</td>\n      <td>6.2 AT 4WD (385 hp)</td>\n      <td>2014.0</td>\n      <td>NaN</td>\n      <td>1402293380</td>\n      <td>1534983558</td>\n      <td>1</td>\n    </tr>\n    <tr>\n      <th>4</th>\n      <td>32263</td>\n      <td>6251</td>\n      <td>708</td>\n      <td>XL 2500 6.0 AT (304 hp) 4WD</td>\n      <td>2000.0</td>\n      <td>2006.0</td>\n      <td>1402948524</td>\n      <td>1455679903</td>\n      <td>1</td>\n    </tr>\n    <tr>\n      <th>...</th>\n      <td>...</td>\n      <td>...</td>\n      <td>...</td>\n      <td>...</td>\n      <td>...</td>\n      <td>...</td>\n      <td>...</td>\n      <td>...</td>\n      <td>...</td>\n    </tr>\n    <tr>\n      <th>62</th>\n      <td>268804</td>\n      <td>67436</td>\n      <td>708</td>\n      <td>3.0 AT 4WD (282 hp)</td>\n      <td>NaN</td>\n      <td>NaN</td>\n      <td>1626881762</td>\n      <td>1626881762</td>\n      <td>1</td>\n    </tr>\n    <tr>\n      <th>63</th>\n      <td>268805</td>\n      <td>67436</td>\n      <td>708</td>\n      <td>5.3 AT (360 hp)</td>\n      <td>NaN</td>\n      <td>NaN</td>\n      <td>1626881762</td>\n      <td>1626881762</td>\n      <td>1</td>\n    </tr>\n    <tr>\n      <th>64</th>\n      <td>268806</td>\n      <td>67436</td>\n      <td>708</td>\n      <td>5.3 AT 4WD (360 hp)</td>\n      <td>NaN</td>\n      <td>NaN</td>\n      <td>1626881762</td>\n      <td>1626881762</td>\n      <td>1</td>\n    </tr>\n    <tr>\n      <th>65</th>\n      <td>268807</td>\n      <td>67436</td>\n      <td>708</td>\n      <td>6.2 AT (426 hp)</td>\n      <td>NaN</td>\n      <td>NaN</td>\n      <td>1626881762</td>\n      <td>1626881762</td>\n      <td>1</td>\n    </tr>\n    <tr>\n      <th>66</th>\n      <td>268808</td>\n      <td>67436</td>\n      <td>708</td>\n      <td>6.2 AT 4WD (426 hp)</td>\n      <td>NaN</td>\n      <td>NaN</td>\n      <td>1626881762</td>\n      <td>1626881762</td>\n      <td>1</td>\n    </tr>\n  </tbody>\n</table>\n<p>67 rows × 9 columns</p>\n</div>"
     },
     "execution_count": 14,
     "metadata": {},
     "output_type": "execute_result"
    }
   ],
   "source": [
    "exec_query(\"select * from car_trim where id_car_model = 708\")"
   ],
   "metadata": {
    "collapsed": false,
    "pycharm": {
     "name": "#%%\n"
    }
   }
  }
 ],
 "metadata": {
  "kernelspec": {
   "display_name": "Python 3",
   "language": "python",
   "name": "python3"
  },
  "language_info": {
   "codemirror_mode": {
    "name": "ipython",
    "version": 2
   },
   "file_extension": ".py",
   "mimetype": "text/x-python",
   "name": "python",
   "nbconvert_exporter": "python",
   "pygments_lexer": "ipython2",
   "version": "2.7.6"
  }
 },
 "nbformat": 4,
 "nbformat_minor": 0
}