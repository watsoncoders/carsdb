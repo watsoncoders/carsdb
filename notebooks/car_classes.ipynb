{
 "cells": [
  {
   "cell_type": "code",
   "execution_count": 1,
   "metadata": {
    "collapsed": true
   },
   "outputs": [],
   "source": [
    "import pandas as pd\n",
    "import pyodbc"
   ]
  },
  {
   "cell_type": "code",
   "execution_count": 2,
   "outputs": [],
   "source": [
    "server = \"localhost\"\n",
    "database = \"cars_2021\"\n",
    "username = \"xxxx\"\n",
    "password = \"xxxx\"\n",
    "\n",
    "connection = pyodbc.connect(\n",
    "    \"DRIVER={ODBC Driver 17 for SQL Server};SERVER=\"\n",
    "    + server\n",
    "    + \";DATABASE=\"\n",
    "    + database\n",
    "    + \";UID=\"\n",
    "    + username\n",
    "    + \";PWD=\"\n",
    "    + password\n",
    ")\n",
    "\n",
    "def exec_query(query:str) -> pd.DataFrame:\n",
    "    return pd.read_sql_query(query, connection)"
   ],
   "metadata": {
    "collapsed": false,
    "pycharm": {
     "name": "#%%\n"
    }
   }
  },
  {
   "cell_type": "code",
   "execution_count": 3,
   "outputs": [
    {
     "data": {
      "text/plain": "                value\n0           Cabriolet\n1               Coupe\n2           Crossover\n3            Fastback\n4             hardtop\n5           Hatchback\n6   Hatchback 3 doors\n7            Liftback\n8           Limousine\n9             Minivan\n10             Pickup\n11           Roadster\n12              Sedan\n13              Targa\n14              Wagon",
      "text/html": "<div>\n<style scoped>\n    .dataframe tbody tr th:only-of-type {\n        vertical-align: middle;\n    }\n\n    .dataframe tbody tr th {\n        vertical-align: top;\n    }\n\n    .dataframe thead th {\n        text-align: right;\n    }\n</style>\n<table border=\"1\" class=\"dataframe\">\n  <thead>\n    <tr style=\"text-align: right;\">\n      <th></th>\n      <th>value</th>\n    </tr>\n  </thead>\n  <tbody>\n    <tr>\n      <th>0</th>\n      <td>Cabriolet</td>\n    </tr>\n    <tr>\n      <th>1</th>\n      <td>Coupe</td>\n    </tr>\n    <tr>\n      <th>2</th>\n      <td>Crossover</td>\n    </tr>\n    <tr>\n      <th>3</th>\n      <td>Fastback</td>\n    </tr>\n    <tr>\n      <th>4</th>\n      <td>hardtop</td>\n    </tr>\n    <tr>\n      <th>5</th>\n      <td>Hatchback</td>\n    </tr>\n    <tr>\n      <th>6</th>\n      <td>Hatchback 3 doors</td>\n    </tr>\n    <tr>\n      <th>7</th>\n      <td>Liftback</td>\n    </tr>\n    <tr>\n      <th>8</th>\n      <td>Limousine</td>\n    </tr>\n    <tr>\n      <th>9</th>\n      <td>Minivan</td>\n    </tr>\n    <tr>\n      <th>10</th>\n      <td>Pickup</td>\n    </tr>\n    <tr>\n      <th>11</th>\n      <td>Roadster</td>\n    </tr>\n    <tr>\n      <th>12</th>\n      <td>Sedan</td>\n    </tr>\n    <tr>\n      <th>13</th>\n      <td>Targa</td>\n    </tr>\n    <tr>\n      <th>14</th>\n      <td>Wagon</td>\n    </tr>\n  </tbody>\n</table>\n</div>"
     },
     "execution_count": 3,
     "metadata": {},
     "output_type": "execute_result"
    }
   ],
   "source": [
    "car_classes_df = exec_query(\"select distinct(value) from car_specification_value where id_car_specification = 2 order by value\")\n",
    "car_classes_df"
   ],
   "metadata": {
    "collapsed": false,
    "pycharm": {
     "name": "#%%\n"
    }
   }
  },
  {
   "cell_type": "code",
   "execution_count": 5,
   "outputs": [
    {
     "data": {
      "text/plain": "       name      name                 name  start_production_year  \\\n0     Acura       MDX  3.5 AT 4WD (263 hp)                 2003.0   \n1     Acura       MDX  3.5 AT 4WD (256 hp)                    NaN   \n2     Acura       MDX  3.5 AT 4WD (290 hp)                 2013.0   \n3     Acura       MDX  3.7 AT 4WD (304 hp)                 2007.0   \n4     Acura       MDX      3.5 AT (228 hp)                 2001.0   \n...     ...       ...                  ...                    ...   \n5947  Zotye      T600     1.8 AMT (177 hp)                    NaN   \n5948     ZX   Admiral  2.2 MT 4WD (105 hp)                 2007.0   \n5949     ZX  Landmark  2.4 AT AWD (126 hp)                 2007.0   \n5950     ZX  Landmark  2.4 MT AWD (126 hp)                 2007.0   \n5951     ZX  Landmark      2.4 MT (126 hp)                 2007.0   \n\n      end_production_year  id_car_trim  \n0                  2006.0       171644  \n1                     NaN       189797  \n2                  2015.0        15563  \n3                  2010.0        50639  \n4                  2003.0        41926  \n...                   ...          ...  \n5947                  NaN       236496  \n5948               2009.0        26712  \n5949                  NaN        58670  \n5950                  NaN        58672  \n5951                  NaN        58671  \n\n[5952 rows x 6 columns]",
      "text/html": "<div>\n<style scoped>\n    .dataframe tbody tr th:only-of-type {\n        vertical-align: middle;\n    }\n\n    .dataframe tbody tr th {\n        vertical-align: top;\n    }\n\n    .dataframe thead th {\n        text-align: right;\n    }\n</style>\n<table border=\"1\" class=\"dataframe\">\n  <thead>\n    <tr style=\"text-align: right;\">\n      <th></th>\n      <th>name</th>\n      <th>name</th>\n      <th>name</th>\n      <th>start_production_year</th>\n      <th>end_production_year</th>\n      <th>id_car_trim</th>\n    </tr>\n  </thead>\n  <tbody>\n    <tr>\n      <th>0</th>\n      <td>Acura</td>\n      <td>MDX</td>\n      <td>3.5 AT 4WD (263 hp)</td>\n      <td>2003.0</td>\n      <td>2006.0</td>\n      <td>171644</td>\n    </tr>\n    <tr>\n      <th>1</th>\n      <td>Acura</td>\n      <td>MDX</td>\n      <td>3.5 AT 4WD (256 hp)</td>\n      <td>NaN</td>\n      <td>NaN</td>\n      <td>189797</td>\n    </tr>\n    <tr>\n      <th>2</th>\n      <td>Acura</td>\n      <td>MDX</td>\n      <td>3.5 AT 4WD (290 hp)</td>\n      <td>2013.0</td>\n      <td>2015.0</td>\n      <td>15563</td>\n    </tr>\n    <tr>\n      <th>3</th>\n      <td>Acura</td>\n      <td>MDX</td>\n      <td>3.7 AT 4WD (304 hp)</td>\n      <td>2007.0</td>\n      <td>2010.0</td>\n      <td>50639</td>\n    </tr>\n    <tr>\n      <th>4</th>\n      <td>Acura</td>\n      <td>MDX</td>\n      <td>3.5 AT (228 hp)</td>\n      <td>2001.0</td>\n      <td>2003.0</td>\n      <td>41926</td>\n    </tr>\n    <tr>\n      <th>...</th>\n      <td>...</td>\n      <td>...</td>\n      <td>...</td>\n      <td>...</td>\n      <td>...</td>\n      <td>...</td>\n    </tr>\n    <tr>\n      <th>5947</th>\n      <td>Zotye</td>\n      <td>T600</td>\n      <td>1.8 AMT (177 hp)</td>\n      <td>NaN</td>\n      <td>NaN</td>\n      <td>236496</td>\n    </tr>\n    <tr>\n      <th>5948</th>\n      <td>ZX</td>\n      <td>Admiral</td>\n      <td>2.2 MT 4WD (105 hp)</td>\n      <td>2007.0</td>\n      <td>2009.0</td>\n      <td>26712</td>\n    </tr>\n    <tr>\n      <th>5949</th>\n      <td>ZX</td>\n      <td>Landmark</td>\n      <td>2.4 AT AWD (126 hp)</td>\n      <td>2007.0</td>\n      <td>NaN</td>\n      <td>58670</td>\n    </tr>\n    <tr>\n      <th>5950</th>\n      <td>ZX</td>\n      <td>Landmark</td>\n      <td>2.4 MT AWD (126 hp)</td>\n      <td>2007.0</td>\n      <td>NaN</td>\n      <td>58672</td>\n    </tr>\n    <tr>\n      <th>5951</th>\n      <td>ZX</td>\n      <td>Landmark</td>\n      <td>2.4 MT (126 hp)</td>\n      <td>2007.0</td>\n      <td>NaN</td>\n      <td>58671</td>\n    </tr>\n  </tbody>\n</table>\n<p>5952 rows × 6 columns</p>\n</div>"
     },
     "execution_count": 5,
     "metadata": {},
     "output_type": "execute_result"
    }
   ],
   "source": [
    "crossovers_df = exec_query(\"\"\"select make.name, model.name, tr.name, tr.start_production_year, tr.end_production_year, tr.id_car_trim\n",
    "from car_make make\n",
    "inner join car_model model\n",
    "on make.id_car_make = model.id_car_make\n",
    "inner join car_trim tr\n",
    "on tr.id_car_model = model.id_car_model\n",
    "inner join car_specification_value specval\n",
    "on tr.id_car_trim = specval.id_car_trim\n",
    "where specval.value = 'Crossover'\n",
    "order by make.name, model.name\"\"\")\n",
    "\n",
    "crossovers_df"
   ],
   "metadata": {
    "collapsed": false,
    "pycharm": {
     "name": "#%%\n"
    }
   }
  }
 ],
 "metadata": {
  "kernelspec": {
   "display_name": "Python 3",
   "language": "python",
   "name": "python3"
  },
  "language_info": {
   "codemirror_mode": {
    "name": "ipython",
    "version": 2
   },
   "file_extension": ".py",
   "mimetype": "text/x-python",
   "name": "python",
   "nbconvert_exporter": "python",
   "pygments_lexer": "ipython2",
   "version": "2.7.6"
  }
 },
 "nbformat": 4,
 "nbformat_minor": 0
}