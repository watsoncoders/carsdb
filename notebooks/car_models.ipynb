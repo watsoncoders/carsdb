{
 "cells": [
  {
   "cell_type": "code",
   "execution_count": 33,
   "metadata": {
    "collapsed": true
   },
   "outputs": [],
   "source": [
    "import pandas as pd\n",
    "import pyodbc"
   ]
  },
  {
   "cell_type": "code",
   "execution_count": 37,
   "outputs": [],
   "source": [
    "server = \"localhost\"\n",
    "database = \"cars_2021\"\n",
    "username = \"xxxx\"\n",
    "password = \"xxxx\"\n",
    "\n",
    "connection = pyodbc.connect(\n",
    "    \"DRIVER={ODBC Driver 17 for SQL Server};SERVER=\"\n",
    "    + server\n",
    "    + \";DATABASE=\"\n",
    "    + database\n",
    "    + \";UID=\"\n",
    "    + username\n",
    "    + \";PWD=\"\n",
    "    + password\n",
    ")\n",
    "\n",
    "def exec_query(query:str) -> pd.DataFrame:\n",
    "    return pd.read_sql_query(query, connection)"
   ],
   "metadata": {
    "collapsed": false,
    "pycharm": {
     "name": "#%%\n"
    }
   }
  },
  {
   "cell_type": "code",
   "execution_count": 69,
   "outputs": [
    {
     "data": {
      "text/plain": "       name      name                        name  start_production_year  \\\n0  Cadillac  Escalade  6.2 V8 AT 4WD ESV (409 hp)                   2014   \n1  Cadillac  Escalade  6.2 V8 AT 4WD ESV (426 hp)                   2014   \n\n   id_car_trim  \n0        69907  \n1        26076  ",
      "text/html": "<div>\n<style scoped>\n    .dataframe tbody tr th:only-of-type {\n        vertical-align: middle;\n    }\n\n    .dataframe tbody tr th {\n        vertical-align: top;\n    }\n\n    .dataframe thead th {\n        text-align: right;\n    }\n</style>\n<table border=\"1\" class=\"dataframe\">\n  <thead>\n    <tr style=\"text-align: right;\">\n      <th></th>\n      <th>name</th>\n      <th>name</th>\n      <th>name</th>\n      <th>start_production_year</th>\n      <th>id_car_trim</th>\n    </tr>\n  </thead>\n  <tbody>\n    <tr>\n      <th>0</th>\n      <td>Cadillac</td>\n      <td>Escalade</td>\n      <td>6.2 V8 AT 4WD ESV (409 hp)</td>\n      <td>2014</td>\n      <td>69907</td>\n    </tr>\n    <tr>\n      <th>1</th>\n      <td>Cadillac</td>\n      <td>Escalade</td>\n      <td>6.2 V8 AT 4WD ESV (426 hp)</td>\n      <td>2014</td>\n      <td>26076</td>\n    </tr>\n  </tbody>\n</table>\n</div>"
     },
     "execution_count": 69,
     "metadata": {},
     "output_type": "execute_result"
    }
   ],
   "source": [
    "model = \"escalade\"\n",
    "trim = \"esv\"\n",
    "\n",
    "model_df = exec_query(f\"\"\"select make.name, model.name, tr.name, tr.start_production_year, tr.id_car_trim\n",
    "from car_make make\n",
    "inner join car_model model\n",
    "on make.id_car_make = model.id_car_make\n",
    "inner join car_trim tr\n",
    "on tr.id_car_model = model.id_car_model\n",
    "where model.name like '%{model}%' and tr.name like '%{trim}%'\n",
    "order by tr.start_production_year desc, tr.name asc\"\"\")\n",
    "\n",
    "model_df"
   ],
   "metadata": {
    "collapsed": false,
    "pycharm": {
     "name": "#%%\n"
    }
   }
  },
  {
   "cell_type": "code",
   "execution_count": 70,
   "outputs": [
    {
     "data": {
      "text/plain": "                                           name  id_parent  \\\n0                                     Body type          1   \n1                              Number of seater          1   \n2                                        Length          1   \n3                                         Width          1   \n4                                        Height          1   \n5                                     Wheelbase          1   \n6                                   Front track          1   \n7                                    Rear track          1   \n8                                   Curb weight          1   \n9                              Ground clearance          1   \n10                           Max trunk capacity          1   \n11                           Min trunk capacity          1   \n12                                  Full weight          1   \n13                                      Payload          1   \n14                   Trailer load (with brakes)          1   \n15                   Turnover of maximum torque         11   \n16                                Cylinder bore         11   \n17                                 Stroke cycle         11   \n18                          Valves per cylinder         11   \n19                                  Engine type         11   \n20                                     Capacity         11   \n21                                 Engine power         11   \n22                             Max power at RPM         11   \n23                               Maximum torque         11   \n24                               Injection type         11   \n25                              Cylinder layout         11   \n26                          Number of cylinders         11   \n27                                 Gearbox type         23   \n28                               Number of gear         23   \n29                                 Drive wheels         23   \n30                               Turning circle         23   \n31                               Cruising range         31   \n32                           Fuel tank capacity         31   \n33                           Emission standards         31   \n34                                    Max speed         31   \n35                    Acceleration (0-100 km/h)         31   \n36     City driving fuel consumption per 100 km         31   \n37  Highway driving fuel consumption per 100 km         31   \n38    Mixed driving fuel consumption per 100 km         31   \n39                                         Fuel         31   \n40                             Front suspension         40   \n41                              Back suspension         40   \n42                                 Front brakes         40   \n43                                  Rear brakes         40   \n\n                                                value  unit  \n0                                           Crossover  None  \n1                                                   7  None  \n2                                                5697    mm  \n3                                                2045    mm  \n4                                                1880    mm  \n5                                                3302    mm  \n6                                                1745    mm  \n7                                                1744    mm  \n8                                                2739    kg  \n9                                                 205    mm  \n10                                               3424     l  \n11                                               1113     l  \n12                                               3310    kg  \n13                                                662    kg  \n14                                               3583    kg  \n15                                           to 4 100   RPM  \n16                                             103.25    mm  \n17                                                 92    mm  \n18                                                  2  None  \n19                                           Gasoline  None  \n20                                               6162   cm3  \n21                                                426    hp  \n22                                           to 5 600   RPM  \n23                                                621   N*m  \n24                                   direct injection  None  \n25                                             V-type  None  \n26                                                  8  None  \n27                                          Automatic  None  \n28                                                  6  None  \n29                              All wheel drive (AWD)  None  \n30                                               13.1     m  \n31                                  from 680 to 1 180    km  \n32                                                117     l  \n33                                             EURO V  None  \n34                                                180  km/h  \n35                                                6.9     s  \n36                                               17.1     l  \n37                                                9.9     l  \n38                                               12.6     l  \n39                                                 95  None  \n40  Independent, Double wishbone, Dampers, Stabili...  None  \n41            Multi wishbone, Dampers, Stabilizer bar  None  \n42                                    ventilated disc  None  \n43                                    ventilated disc  None  ",
      "text/html": "<div>\n<style scoped>\n    .dataframe tbody tr th:only-of-type {\n        vertical-align: middle;\n    }\n\n    .dataframe tbody tr th {\n        vertical-align: top;\n    }\n\n    .dataframe thead th {\n        text-align: right;\n    }\n</style>\n<table border=\"1\" class=\"dataframe\">\n  <thead>\n    <tr style=\"text-align: right;\">\n      <th></th>\n      <th>name</th>\n      <th>id_parent</th>\n      <th>value</th>\n      <th>unit</th>\n    </tr>\n  </thead>\n  <tbody>\n    <tr>\n      <th>0</th>\n      <td>Body type</td>\n      <td>1</td>\n      <td>Crossover</td>\n      <td>None</td>\n    </tr>\n    <tr>\n      <th>1</th>\n      <td>Number of seater</td>\n      <td>1</td>\n      <td>7</td>\n      <td>None</td>\n    </tr>\n    <tr>\n      <th>2</th>\n      <td>Length</td>\n      <td>1</td>\n      <td>5697</td>\n      <td>mm</td>\n    </tr>\n    <tr>\n      <th>3</th>\n      <td>Width</td>\n      <td>1</td>\n      <td>2045</td>\n      <td>mm</td>\n    </tr>\n    <tr>\n      <th>4</th>\n      <td>Height</td>\n      <td>1</td>\n      <td>1880</td>\n      <td>mm</td>\n    </tr>\n    <tr>\n      <th>5</th>\n      <td>Wheelbase</td>\n      <td>1</td>\n      <td>3302</td>\n      <td>mm</td>\n    </tr>\n    <tr>\n      <th>6</th>\n      <td>Front track</td>\n      <td>1</td>\n      <td>1745</td>\n      <td>mm</td>\n    </tr>\n    <tr>\n      <th>7</th>\n      <td>Rear track</td>\n      <td>1</td>\n      <td>1744</td>\n      <td>mm</td>\n    </tr>\n    <tr>\n      <th>8</th>\n      <td>Curb weight</td>\n      <td>1</td>\n      <td>2739</td>\n      <td>kg</td>\n    </tr>\n    <tr>\n      <th>9</th>\n      <td>Ground clearance</td>\n      <td>1</td>\n      <td>205</td>\n      <td>mm</td>\n    </tr>\n    <tr>\n      <th>10</th>\n      <td>Max trunk capacity</td>\n      <td>1</td>\n      <td>3424</td>\n      <td>l</td>\n    </tr>\n    <tr>\n      <th>11</th>\n      <td>Min trunk capacity</td>\n      <td>1</td>\n      <td>1113</td>\n      <td>l</td>\n    </tr>\n    <tr>\n      <th>12</th>\n      <td>Full weight</td>\n      <td>1</td>\n      <td>3310</td>\n      <td>kg</td>\n    </tr>\n    <tr>\n      <th>13</th>\n      <td>Payload</td>\n      <td>1</td>\n      <td>662</td>\n      <td>kg</td>\n    </tr>\n    <tr>\n      <th>14</th>\n      <td>Trailer load (with brakes)</td>\n      <td>1</td>\n      <td>3583</td>\n      <td>kg</td>\n    </tr>\n    <tr>\n      <th>15</th>\n      <td>Turnover of maximum torque</td>\n      <td>11</td>\n      <td>to 4 100</td>\n      <td>RPM</td>\n    </tr>\n    <tr>\n      <th>16</th>\n      <td>Cylinder bore</td>\n      <td>11</td>\n      <td>103.25</td>\n      <td>mm</td>\n    </tr>\n    <tr>\n      <th>17</th>\n      <td>Stroke cycle</td>\n      <td>11</td>\n      <td>92</td>\n      <td>mm</td>\n    </tr>\n    <tr>\n      <th>18</th>\n      <td>Valves per cylinder</td>\n      <td>11</td>\n      <td>2</td>\n      <td>None</td>\n    </tr>\n    <tr>\n      <th>19</th>\n      <td>Engine type</td>\n      <td>11</td>\n      <td>Gasoline</td>\n      <td>None</td>\n    </tr>\n    <tr>\n      <th>20</th>\n      <td>Capacity</td>\n      <td>11</td>\n      <td>6162</td>\n      <td>cm3</td>\n    </tr>\n    <tr>\n      <th>21</th>\n      <td>Engine power</td>\n      <td>11</td>\n      <td>426</td>\n      <td>hp</td>\n    </tr>\n    <tr>\n      <th>22</th>\n      <td>Max power at RPM</td>\n      <td>11</td>\n      <td>to 5 600</td>\n      <td>RPM</td>\n    </tr>\n    <tr>\n      <th>23</th>\n      <td>Maximum torque</td>\n      <td>11</td>\n      <td>621</td>\n      <td>N*m</td>\n    </tr>\n    <tr>\n      <th>24</th>\n      <td>Injection type</td>\n      <td>11</td>\n      <td>direct injection</td>\n      <td>None</td>\n    </tr>\n    <tr>\n      <th>25</th>\n      <td>Cylinder layout</td>\n      <td>11</td>\n      <td>V-type</td>\n      <td>None</td>\n    </tr>\n    <tr>\n      <th>26</th>\n      <td>Number of cylinders</td>\n      <td>11</td>\n      <td>8</td>\n      <td>None</td>\n    </tr>\n    <tr>\n      <th>27</th>\n      <td>Gearbox type</td>\n      <td>23</td>\n      <td>Automatic</td>\n      <td>None</td>\n    </tr>\n    <tr>\n      <th>28</th>\n      <td>Number of gear</td>\n      <td>23</td>\n      <td>6</td>\n      <td>None</td>\n    </tr>\n    <tr>\n      <th>29</th>\n      <td>Drive wheels</td>\n      <td>23</td>\n      <td>All wheel drive (AWD)</td>\n      <td>None</td>\n    </tr>\n    <tr>\n      <th>30</th>\n      <td>Turning circle</td>\n      <td>23</td>\n      <td>13.1</td>\n      <td>m</td>\n    </tr>\n    <tr>\n      <th>31</th>\n      <td>Cruising range</td>\n      <td>31</td>\n      <td>from 680 to 1 180</td>\n      <td>km</td>\n    </tr>\n    <tr>\n      <th>32</th>\n      <td>Fuel tank capacity</td>\n      <td>31</td>\n      <td>117</td>\n      <td>l</td>\n    </tr>\n    <tr>\n      <th>33</th>\n      <td>Emission standards</td>\n      <td>31</td>\n      <td>EURO V</td>\n      <td>None</td>\n    </tr>\n    <tr>\n      <th>34</th>\n      <td>Max speed</td>\n      <td>31</td>\n      <td>180</td>\n      <td>km/h</td>\n    </tr>\n    <tr>\n      <th>35</th>\n      <td>Acceleration (0-100 km/h)</td>\n      <td>31</td>\n      <td>6.9</td>\n      <td>s</td>\n    </tr>\n    <tr>\n      <th>36</th>\n      <td>City driving fuel consumption per 100 km</td>\n      <td>31</td>\n      <td>17.1</td>\n      <td>l</td>\n    </tr>\n    <tr>\n      <th>37</th>\n      <td>Highway driving fuel consumption per 100 km</td>\n      <td>31</td>\n      <td>9.9</td>\n      <td>l</td>\n    </tr>\n    <tr>\n      <th>38</th>\n      <td>Mixed driving fuel consumption per 100 km</td>\n      <td>31</td>\n      <td>12.6</td>\n      <td>l</td>\n    </tr>\n    <tr>\n      <th>39</th>\n      <td>Fuel</td>\n      <td>31</td>\n      <td>95</td>\n      <td>None</td>\n    </tr>\n    <tr>\n      <th>40</th>\n      <td>Front suspension</td>\n      <td>40</td>\n      <td>Independent, Double wishbone, Dampers, Stabili...</td>\n      <td>None</td>\n    </tr>\n    <tr>\n      <th>41</th>\n      <td>Back suspension</td>\n      <td>40</td>\n      <td>Multi wishbone, Dampers, Stabilizer bar</td>\n      <td>None</td>\n    </tr>\n    <tr>\n      <th>42</th>\n      <td>Front brakes</td>\n      <td>40</td>\n      <td>ventilated disc</td>\n      <td>None</td>\n    </tr>\n    <tr>\n      <th>43</th>\n      <td>Rear brakes</td>\n      <td>40</td>\n      <td>ventilated disc</td>\n      <td>None</td>\n    </tr>\n  </tbody>\n</table>\n</div>"
     },
     "execution_count": 70,
     "metadata": {},
     "output_type": "execute_result"
    }
   ],
   "source": [
    "trim_id = 26076\n",
    "\n",
    "model_spec_df = exec_query(f\"\"\"select spec.name, spec.id_parent, specval.value, specval.unit\n",
    "from car_specification as spec\n",
    "inner join car_specification_value specval\n",
    "on spec.id_car_specification = specval.id_car_specification\n",
    "where specval.id_car_trim = {trim_id}\n",
    "order by spec.id_parent\"\"\")\n",
    "\n",
    "model_spec_df"
   ],
   "metadata": {
    "collapsed": false,
    "pycharm": {
     "name": "#%%\n"
    }
   }
  },
  {
   "cell_type": "code",
   "execution_count": 44,
   "outputs": [
    {
     "data": {
      "text/plain": "   id_car_specification                       name\n0                  1631        Accumulator battery\n1                     1                   Bodywork\n2                    11                     Engine\n3                    23       Gearbox and handling\n4                  1549        General information\n5                    31  Operating characteristics\n6                  1551                   Security\n7                    53                   Steering\n8                    40      Suspension and brakes\n9                  1550          Volume and weight",
      "text/html": "<div>\n<style scoped>\n    .dataframe tbody tr th:only-of-type {\n        vertical-align: middle;\n    }\n\n    .dataframe tbody tr th {\n        vertical-align: top;\n    }\n\n    .dataframe thead th {\n        text-align: right;\n    }\n</style>\n<table border=\"1\" class=\"dataframe\">\n  <thead>\n    <tr style=\"text-align: right;\">\n      <th></th>\n      <th>id_car_specification</th>\n      <th>name</th>\n    </tr>\n  </thead>\n  <tbody>\n    <tr>\n      <th>0</th>\n      <td>1631</td>\n      <td>Accumulator battery</td>\n    </tr>\n    <tr>\n      <th>1</th>\n      <td>1</td>\n      <td>Bodywork</td>\n    </tr>\n    <tr>\n      <th>2</th>\n      <td>11</td>\n      <td>Engine</td>\n    </tr>\n    <tr>\n      <th>3</th>\n      <td>23</td>\n      <td>Gearbox and handling</td>\n    </tr>\n    <tr>\n      <th>4</th>\n      <td>1549</td>\n      <td>General information</td>\n    </tr>\n    <tr>\n      <th>5</th>\n      <td>31</td>\n      <td>Operating characteristics</td>\n    </tr>\n    <tr>\n      <th>6</th>\n      <td>1551</td>\n      <td>Security</td>\n    </tr>\n    <tr>\n      <th>7</th>\n      <td>53</td>\n      <td>Steering</td>\n    </tr>\n    <tr>\n      <th>8</th>\n      <td>40</td>\n      <td>Suspension and brakes</td>\n    </tr>\n    <tr>\n      <th>9</th>\n      <td>1550</td>\n      <td>Volume and weight</td>\n    </tr>\n  </tbody>\n</table>\n</div>"
     },
     "execution_count": 44,
     "metadata": {},
     "output_type": "execute_result"
    }
   ],
   "source": [
    "spec_parents_df = exec_query(\"select id_car_specification, name from car_specification where id_parent is null\")\n",
    "spec_parents_df"
   ],
   "metadata": {
    "collapsed": false,
    "pycharm": {
     "name": "#%%\n"
    }
   }
  },
  {
   "cell_type": "code",
   "execution_count": 71,
   "outputs": [
    {
     "data": {
      "text/plain": "                                      spec_name  \\\n0                                     Body type   \n1                              Number of seater   \n2                                        Length   \n3                                         Width   \n4                                        Height   \n5                                     Wheelbase   \n6                                   Front track   \n7                                    Rear track   \n8                                   Curb weight   \n9                              Ground clearance   \n10                           Max trunk capacity   \n11                           Min trunk capacity   \n12                                  Full weight   \n13                                      Payload   \n14                   Trailer load (with brakes)   \n15                   Turnover of maximum torque   \n16                                Cylinder bore   \n17                                 Stroke cycle   \n18                          Valves per cylinder   \n19                                  Engine type   \n20                                     Capacity   \n21                                 Engine power   \n22                             Max power at RPM   \n23                               Maximum torque   \n24                               Injection type   \n25                              Cylinder layout   \n26                          Number of cylinders   \n27                                 Gearbox type   \n28                               Number of gear   \n29                                 Drive wheels   \n30                               Turning circle   \n31                               Cruising range   \n32                           Fuel tank capacity   \n33                           Emission standards   \n34                                    Max speed   \n35                    Acceleration (0-100 km/h)   \n36     City driving fuel consumption per 100 km   \n37  Highway driving fuel consumption per 100 km   \n38    Mixed driving fuel consumption per 100 km   \n39                                         Fuel   \n40                             Front suspension   \n41                              Back suspension   \n42                                 Front brakes   \n43                                  Rear brakes   \n\n                                                value  unit  \\\n0                                           Crossover  None   \n1                                                   7  None   \n2                                                5697    mm   \n3                                                2045    mm   \n4                                                1880    mm   \n5                                                3302    mm   \n6                                                1745    mm   \n7                                                1744    mm   \n8                                                2739    kg   \n9                                                 205    mm   \n10                                               3424     l   \n11                                               1113     l   \n12                                               3310    kg   \n13                                                662    kg   \n14                                               3583    kg   \n15                                           to 4 100   RPM   \n16                                             103.25    mm   \n17                                                 92    mm   \n18                                                  2  None   \n19                                           Gasoline  None   \n20                                               6162   cm3   \n21                                                426    hp   \n22                                           to 5 600   RPM   \n23                                                621   N*m   \n24                                   direct injection  None   \n25                                             V-type  None   \n26                                                  8  None   \n27                                          Automatic  None   \n28                                                  6  None   \n29                              All wheel drive (AWD)  None   \n30                                               13.1     m   \n31                                  from 680 to 1 180    km   \n32                                                117     l   \n33                                             EURO V  None   \n34                                                180  km/h   \n35                                                6.9     s   \n36                                               17.1     l   \n37                                                9.9     l   \n38                                               12.6     l   \n39                                                 95  None   \n40  Independent, Double wishbone, Dampers, Stabili...  None   \n41            Multi wishbone, Dampers, Stabilizer bar  None   \n42                                    ventilated disc  None   \n43                                    ventilated disc  None   \n\n                   spec_class  \n0                    Bodywork  \n1                    Bodywork  \n2                    Bodywork  \n3                    Bodywork  \n4                    Bodywork  \n5                    Bodywork  \n6                    Bodywork  \n7                    Bodywork  \n8                    Bodywork  \n9                    Bodywork  \n10                   Bodywork  \n11                   Bodywork  \n12                   Bodywork  \n13                   Bodywork  \n14                   Bodywork  \n15                     Engine  \n16                     Engine  \n17                     Engine  \n18                     Engine  \n19                     Engine  \n20                     Engine  \n21                     Engine  \n22                     Engine  \n23                     Engine  \n24                     Engine  \n25                     Engine  \n26                     Engine  \n27       Gearbox and handling  \n28       Gearbox and handling  \n29       Gearbox and handling  \n30       Gearbox and handling  \n31  Operating characteristics  \n32  Operating characteristics  \n33  Operating characteristics  \n34  Operating characteristics  \n35  Operating characteristics  \n36  Operating characteristics  \n37  Operating characteristics  \n38  Operating characteristics  \n39  Operating characteristics  \n40      Suspension and brakes  \n41      Suspension and brakes  \n42      Suspension and brakes  \n43      Suspension and brakes  ",
      "text/html": "<div>\n<style scoped>\n    .dataframe tbody tr th:only-of-type {\n        vertical-align: middle;\n    }\n\n    .dataframe tbody tr th {\n        vertical-align: top;\n    }\n\n    .dataframe thead th {\n        text-align: right;\n    }\n</style>\n<table border=\"1\" class=\"dataframe\">\n  <thead>\n    <tr style=\"text-align: right;\">\n      <th></th>\n      <th>spec_name</th>\n      <th>value</th>\n      <th>unit</th>\n      <th>spec_class</th>\n    </tr>\n  </thead>\n  <tbody>\n    <tr>\n      <th>0</th>\n      <td>Body type</td>\n      <td>Crossover</td>\n      <td>None</td>\n      <td>Bodywork</td>\n    </tr>\n    <tr>\n      <th>1</th>\n      <td>Number of seater</td>\n      <td>7</td>\n      <td>None</td>\n      <td>Bodywork</td>\n    </tr>\n    <tr>\n      <th>2</th>\n      <td>Length</td>\n      <td>5697</td>\n      <td>mm</td>\n      <td>Bodywork</td>\n    </tr>\n    <tr>\n      <th>3</th>\n      <td>Width</td>\n      <td>2045</td>\n      <td>mm</td>\n      <td>Bodywork</td>\n    </tr>\n    <tr>\n      <th>4</th>\n      <td>Height</td>\n      <td>1880</td>\n      <td>mm</td>\n      <td>Bodywork</td>\n    </tr>\n    <tr>\n      <th>5</th>\n      <td>Wheelbase</td>\n      <td>3302</td>\n      <td>mm</td>\n      <td>Bodywork</td>\n    </tr>\n    <tr>\n      <th>6</th>\n      <td>Front track</td>\n      <td>1745</td>\n      <td>mm</td>\n      <td>Bodywork</td>\n    </tr>\n    <tr>\n      <th>7</th>\n      <td>Rear track</td>\n      <td>1744</td>\n      <td>mm</td>\n      <td>Bodywork</td>\n    </tr>\n    <tr>\n      <th>8</th>\n      <td>Curb weight</td>\n      <td>2739</td>\n      <td>kg</td>\n      <td>Bodywork</td>\n    </tr>\n    <tr>\n      <th>9</th>\n      <td>Ground clearance</td>\n      <td>205</td>\n      <td>mm</td>\n      <td>Bodywork</td>\n    </tr>\n    <tr>\n      <th>10</th>\n      <td>Max trunk capacity</td>\n      <td>3424</td>\n      <td>l</td>\n      <td>Bodywork</td>\n    </tr>\n    <tr>\n      <th>11</th>\n      <td>Min trunk capacity</td>\n      <td>1113</td>\n      <td>l</td>\n      <td>Bodywork</td>\n    </tr>\n    <tr>\n      <th>12</th>\n      <td>Full weight</td>\n      <td>3310</td>\n      <td>kg</td>\n      <td>Bodywork</td>\n    </tr>\n    <tr>\n      <th>13</th>\n      <td>Payload</td>\n      <td>662</td>\n      <td>kg</td>\n      <td>Bodywork</td>\n    </tr>\n    <tr>\n      <th>14</th>\n      <td>Trailer load (with brakes)</td>\n      <td>3583</td>\n      <td>kg</td>\n      <td>Bodywork</td>\n    </tr>\n    <tr>\n      <th>15</th>\n      <td>Turnover of maximum torque</td>\n      <td>to 4 100</td>\n      <td>RPM</td>\n      <td>Engine</td>\n    </tr>\n    <tr>\n      <th>16</th>\n      <td>Cylinder bore</td>\n      <td>103.25</td>\n      <td>mm</td>\n      <td>Engine</td>\n    </tr>\n    <tr>\n      <th>17</th>\n      <td>Stroke cycle</td>\n      <td>92</td>\n      <td>mm</td>\n      <td>Engine</td>\n    </tr>\n    <tr>\n      <th>18</th>\n      <td>Valves per cylinder</td>\n      <td>2</td>\n      <td>None</td>\n      <td>Engine</td>\n    </tr>\n    <tr>\n      <th>19</th>\n      <td>Engine type</td>\n      <td>Gasoline</td>\n      <td>None</td>\n      <td>Engine</td>\n    </tr>\n    <tr>\n      <th>20</th>\n      <td>Capacity</td>\n      <td>6162</td>\n      <td>cm3</td>\n      <td>Engine</td>\n    </tr>\n    <tr>\n      <th>21</th>\n      <td>Engine power</td>\n      <td>426</td>\n      <td>hp</td>\n      <td>Engine</td>\n    </tr>\n    <tr>\n      <th>22</th>\n      <td>Max power at RPM</td>\n      <td>to 5 600</td>\n      <td>RPM</td>\n      <td>Engine</td>\n    </tr>\n    <tr>\n      <th>23</th>\n      <td>Maximum torque</td>\n      <td>621</td>\n      <td>N*m</td>\n      <td>Engine</td>\n    </tr>\n    <tr>\n      <th>24</th>\n      <td>Injection type</td>\n      <td>direct injection</td>\n      <td>None</td>\n      <td>Engine</td>\n    </tr>\n    <tr>\n      <th>25</th>\n      <td>Cylinder layout</td>\n      <td>V-type</td>\n      <td>None</td>\n      <td>Engine</td>\n    </tr>\n    <tr>\n      <th>26</th>\n      <td>Number of cylinders</td>\n      <td>8</td>\n      <td>None</td>\n      <td>Engine</td>\n    </tr>\n    <tr>\n      <th>27</th>\n      <td>Gearbox type</td>\n      <td>Automatic</td>\n      <td>None</td>\n      <td>Gearbox and handling</td>\n    </tr>\n    <tr>\n      <th>28</th>\n      <td>Number of gear</td>\n      <td>6</td>\n      <td>None</td>\n      <td>Gearbox and handling</td>\n    </tr>\n    <tr>\n      <th>29</th>\n      <td>Drive wheels</td>\n      <td>All wheel drive (AWD)</td>\n      <td>None</td>\n      <td>Gearbox and handling</td>\n    </tr>\n    <tr>\n      <th>30</th>\n      <td>Turning circle</td>\n      <td>13.1</td>\n      <td>m</td>\n      <td>Gearbox and handling</td>\n    </tr>\n    <tr>\n      <th>31</th>\n      <td>Cruising range</td>\n      <td>from 680 to 1 180</td>\n      <td>km</td>\n      <td>Operating characteristics</td>\n    </tr>\n    <tr>\n      <th>32</th>\n      <td>Fuel tank capacity</td>\n      <td>117</td>\n      <td>l</td>\n      <td>Operating characteristics</td>\n    </tr>\n    <tr>\n      <th>33</th>\n      <td>Emission standards</td>\n      <td>EURO V</td>\n      <td>None</td>\n      <td>Operating characteristics</td>\n    </tr>\n    <tr>\n      <th>34</th>\n      <td>Max speed</td>\n      <td>180</td>\n      <td>km/h</td>\n      <td>Operating characteristics</td>\n    </tr>\n    <tr>\n      <th>35</th>\n      <td>Acceleration (0-100 km/h)</td>\n      <td>6.9</td>\n      <td>s</td>\n      <td>Operating characteristics</td>\n    </tr>\n    <tr>\n      <th>36</th>\n      <td>City driving fuel consumption per 100 km</td>\n      <td>17.1</td>\n      <td>l</td>\n      <td>Operating characteristics</td>\n    </tr>\n    <tr>\n      <th>37</th>\n      <td>Highway driving fuel consumption per 100 km</td>\n      <td>9.9</td>\n      <td>l</td>\n      <td>Operating characteristics</td>\n    </tr>\n    <tr>\n      <th>38</th>\n      <td>Mixed driving fuel consumption per 100 km</td>\n      <td>12.6</td>\n      <td>l</td>\n      <td>Operating characteristics</td>\n    </tr>\n    <tr>\n      <th>39</th>\n      <td>Fuel</td>\n      <td>95</td>\n      <td>None</td>\n      <td>Operating characteristics</td>\n    </tr>\n    <tr>\n      <th>40</th>\n      <td>Front suspension</td>\n      <td>Independent, Double wishbone, Dampers, Stabili...</td>\n      <td>None</td>\n      <td>Suspension and brakes</td>\n    </tr>\n    <tr>\n      <th>41</th>\n      <td>Back suspension</td>\n      <td>Multi wishbone, Dampers, Stabilizer bar</td>\n      <td>None</td>\n      <td>Suspension and brakes</td>\n    </tr>\n    <tr>\n      <th>42</th>\n      <td>Front brakes</td>\n      <td>ventilated disc</td>\n      <td>None</td>\n      <td>Suspension and brakes</td>\n    </tr>\n    <tr>\n      <th>43</th>\n      <td>Rear brakes</td>\n      <td>ventilated disc</td>\n      <td>None</td>\n      <td>Suspension and brakes</td>\n    </tr>\n  </tbody>\n</table>\n</div>"
     },
     "execution_count": 71,
     "metadata": {},
     "output_type": "execute_result"
    }
   ],
   "source": [
    "model_spec_df = pd.merge(model_spec_df, spec_parents_df, left_on=\"id_parent\", right_on=\"id_car_specification\", how=\"inner\")\n",
    "model_spec_df.rename(columns = {\"name_y\": \"spec_class\", \"name_x\": \"spec_name\"}, inplace = True)\n",
    "model_spec_df = model_spec_df[[\"spec_name\", \"value\", \"unit\", \"spec_class\"]]\n",
    "model_spec_df"
   ],
   "metadata": {
    "collapsed": false,
    "pycharm": {
     "name": "#%%\n"
    }
   }
  }
 ],
 "metadata": {
  "kernelspec": {
   "display_name": "Python 3",
   "language": "python",
   "name": "python3"
  },
  "language_info": {
   "codemirror_mode": {
    "name": "ipython",
    "version": 2
   },
   "file_extension": ".py",
   "mimetype": "text/x-python",
   "name": "python",
   "nbconvert_exporter": "python",
   "pygments_lexer": "ipython2",
   "version": "2.7.6"
  }
 },
 "nbformat": 4,
 "nbformat_minor": 0
}